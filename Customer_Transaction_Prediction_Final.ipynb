{
 "cells": [
  {
   "cell_type": "markdown",
   "id": "b50c975f-b41c-4f4d-8419-7f5fe6d7809d",
   "metadata": {},
   "source": [
    "## Introduction"
   ]
  },
  {
   "cell_type": "raw",
   "id": "c7a60685-9d98-4540-b2d2-7e4ec7ea9053",
   "metadata": {},
   "source": [
    "PRCP-1003: Customer Transaction Prediction\n",
    "\n",
    "This project aims to build a predictive model that identifies which customers will make a transaction in the future. The dataset is anonymized and contains 200 numerical features, along with a target column indicating whether a transaction will occur.\n"
   ]
  },
  {
   "cell_type": "markdown",
   "id": "28710748-5f3a-4ca4-b4e2-41f762377767",
   "metadata": {},
   "source": [
    "## Importing Libraries"
   ]
  },
  {
   "cell_type": "code",
   "execution_count": null,
   "id": "4d88dc90-496f-47e8-ab61-e6f30ee77215",
   "metadata": {},
   "outputs": [],
   "source": [
    "import pandas as pd\n",
    "import numpy as np\n",
    "import matplotlib.pyplot as plt\n",
    "import seaborn as sns\n",
    "\n",
    "import warnings\n",
    "warnings.filterwarnings('ignore')\n"
   ]
  },
  {
   "cell_type": "markdown",
   "id": "5a3e0f26-28de-4c70-b0fc-792ce5e43a58",
   "metadata": {},
   "source": [
    "## Loading the Dataset"
   ]
  },
  {
   "cell_type": "code",
   "execution_count": null,
   "id": "700b56e3-67a7-4ae3-9352-2cef378c9f65",
   "metadata": {},
   "outputs": [],
   "source": [
    "df = pd.read_csv('train.csv')\n",
    "df"
   ]
  },
  {
   "cell_type": "markdown",
   "id": "f1510e27-8548-4ae6-9a6d-76600b9d119f",
   "metadata": {},
   "source": [
    "## Basic Checks"
   ]
  },
  {
   "cell_type": "code",
   "execution_count": null,
   "id": "06ba7992-1bb3-4ee4-9eea-f9e420989146",
   "metadata": {},
   "outputs": [],
   "source": [
    "df.head()"
   ]
  },
  {
   "cell_type": "code",
   "execution_count": null,
   "id": "acb126d5-8880-4b5b-951a-9f1e8a2a2c08",
   "metadata": {},
   "outputs": [],
   "source": [
    "df.tail()"
   ]
  },
  {
   "cell_type": "code",
   "execution_count": null,
   "id": "2f697f6d-f936-4a56-a535-82cbe9dadf7c",
   "metadata": {},
   "outputs": [],
   "source": [
    "df.info()"
   ]
  },
  {
   "cell_type": "markdown",
   "id": "a53ccec1-e1b9-41b1-8e04-964df836b3e0",
   "metadata": {},
   "source": [
    "## Checking Target Distribution\n",
    "\n",
    "We check how many customers are labeled as 0 (no transaction) and 1 (will make a transaction).\n"
   ]
  },
  {
   "cell_type": "markdown",
   "id": "df0c3e09-5653-419c-9ca8-9863fd9736fc",
   "metadata": {},
   "source": [
    "## Descriptive Statistics\n",
    "\n",
    "Displays basic summary stats for each feature to understand the data range and distribution.\n"
   ]
  },
  {
   "cell_type": "code",
   "execution_count": null,
   "id": "88d77bf9-c0d6-42f5-9151-f7857e66ce5f",
   "metadata": {},
   "outputs": [],
   "source": [
    "df.describe()"
   ]
  },
  {
   "cell_type": "code",
   "execution_count": null,
   "id": "f1844531-276b-434a-ac22-fe65f569c6a2",
   "metadata": {},
   "outputs": [],
   "source": [
    "df.shape"
   ]
  },
  {
   "cell_type": "code",
   "execution_count": null,
   "id": "09e067d4-d3a8-4bfa-a5cf-6c022249dcaa",
   "metadata": {},
   "outputs": [],
   "source": [
    "df.isnull().sum()"
   ]
  },
  {
   "cell_type": "code",
   "execution_count": null,
   "id": "086c1493-a72b-4b97-87e1-e7c7275a6f71",
   "metadata": {},
   "outputs": [],
   "source": [
    "df['target'].value_counts(normalize=True)"
   ]
  },
  {
   "cell_type": "code",
   "execution_count": null,
   "id": "55e067cf-1be9-4770-bfeb-d26a5dc00fc7",
   "metadata": {},
   "outputs": [],
   "source": [
    "df.drop(columns=['ID_code'], inplace = True)"
   ]
  },
  {
   "cell_type": "code",
   "execution_count": null,
   "id": "1ba7b0e8-6fe0-4112-8dbe-4105ef7000ca",
   "metadata": {},
   "outputs": [],
   "source": [
    "df"
   ]
  },
  {
   "cell_type": "markdown",
   "id": "069c9406-564e-4356-b61c-9840e2ccf386",
   "metadata": {},
   "source": [
    "## Data Preprocessing"
   ]
  },
  {
   "cell_type": "code",
   "execution_count": null,
   "id": "fecd341e-2ce5-4fe1-b530-a3b5f02c294c",
   "metadata": {},
   "outputs": [],
   "source": [
    "# Separating Features and Target\n",
    "X = df.drop('target', axis=1)\n",
    "y = df['target']\n"
   ]
  },
  {
   "cell_type": "code",
   "execution_count": null,
   "id": "e52dbfd6-f774-4f7b-9828-d5a8c55c2ba1",
   "metadata": {},
   "outputs": [],
   "source": [
    "from sklearn.model_selection import train_test_split\n",
    "\n",
    "# Spliting the data into train and test data\n",
    "X_train, X_test, y_train, y_test = train_test_split(\n",
    "    X, y, test_size=0.2, random_state=42, stratify=y\n",
    ")\n",
    "\n",
    "print(\"Training samples:\", X_train.shape[0])\n",
    "print(\"Testing samples:\", X_test.shape[0])\n"
   ]
  },
  {
   "cell_type": "markdown",
   "id": "786753cd-5f7b-4a96-bf27-2a9b1156795a",
   "metadata": {},
   "source": [
    "## Preprocessing: Feature Scaling\n",
    "\n",
    "StandardScaler is used to normalize feature values before model training.\n"
   ]
  },
  {
   "cell_type": "code",
   "execution_count": null,
   "id": "3d681766-cda0-482c-bf24-99a92e5e1f96",
   "metadata": {},
   "outputs": [],
   "source": [
    "from sklearn.preprocessing import StandardScaler\n",
    "\n",
    "# Feature scaling\n",
    "scaler = StandardScaler()\n",
    "X_train_scaled = scaler.fit_transform(X_train)\n",
    "X_test_scaled = scaler.transform(X_test)\n"
   ]
  },
  {
   "cell_type": "markdown",
   "id": "af472540-70ae-401d-ace5-f904df780357",
   "metadata": {},
   "source": [
    "## Checking class imbalance"
   ]
  },
  {
   "cell_type": "code",
   "execution_count": null,
   "id": "d29a9179-ebf7-41f1-9eb0-6d3ffdf3e962",
   "metadata": {},
   "outputs": [],
   "source": [
    "sns.countplot(x=y)\n",
    "plt.title(\"Target Class Distribution\")\n",
    "plt.show()\n"
   ]
  },
  {
   "cell_type": "markdown",
   "id": "25fd8fb8-9314-42af-9cac-d14d8b77927c",
   "metadata": {},
   "source": [
    "## Handling Class Imbalance with SMOTE\n",
    "\n",
    "SMOTE is applied to balance the dataset so that both target classes have equal representation."
   ]
  },
  {
   "cell_type": "code",
   "execution_count": null,
   "id": "b3451fa2-eaeb-4c01-a12e-2ffb9f8845fb",
   "metadata": {},
   "outputs": [],
   "source": [
    "\n",
    "from imblearn.over_sampling import SMOTE\n",
    "\n",
    "smote = SMOTE(random_state=42)\n",
    "X_train_bal, y_train_bal = smote.fit_resample(X_train_scaled, y_train)\n",
    "\n",
    "print(\"Balanced training class distribution:\\n\", pd.Series(y_train_bal).value_counts())\n"
   ]
  },
  {
   "cell_type": "markdown",
   "id": "4e5035f8-5cca-4046-9904-81454abe6217",
   "metadata": {},
   "source": [
    "## Logistic Regression Model"
   ]
  },
  {
   "cell_type": "code",
   "execution_count": null,
   "id": "35468902-da4f-465f-8cb1-1b6d3092e478",
   "metadata": {},
   "outputs": [],
   "source": [
    "from sklearn.linear_model import LogisticRegression\n",
    "from sklearn.metrics import accuracy_score, precision_score, recall_score, f1_score, confusion_matrix\n",
    "\n",
    "log_reg = LogisticRegression(max_iter=100, random_state=42)\n",
    "log_reg.fit(X_train_bal, y_train_bal)\n",
    "\n"
   ]
  },
  {
   "cell_type": "code",
   "execution_count": null,
   "id": "0b8c8fc2-0f8d-4dd3-bd1a-4a34f5381d5a",
   "metadata": {},
   "outputs": [],
   "source": [
    "# Making Predictions\n",
    "\n",
    "y_pred_lr = log_reg.predict(X_test_scaled)\n"
   ]
  },
  {
   "cell_type": "code",
   "execution_count": null,
   "id": "c5def60c-329c-471a-b562-a76a507efd09",
   "metadata": {},
   "outputs": [],
   "source": [
    "# Evaluating Model Performance\n",
    "\n",
    "print(\"Logistic Regression Performance:\")\n",
    "print(\"Accuracy:\", accuracy_score(y_test, y_pred_lr))\n",
    "print(\"Precision:\", precision_score(y_test, y_pred_lr))\n",
    "print(\"Recall:\", recall_score(y_test, y_pred_lr))\n",
    "print(\"F1 Score:\", f1_score(y_test, y_pred_lr))\n",
    "print(\"Confusion Matrix:\",confusion_matrix(y_test, y_pred_lr))\n"
   ]
  },
  {
   "cell_type": "markdown",
   "id": "b10dff41-ce70-4c2b-ab04-e521ac0086ea",
   "metadata": {},
   "source": [
    "## Random Forest Model"
   ]
  },
  {
   "cell_type": "code",
   "execution_count": null,
   "id": "d25e1767-1beb-4d3d-b6f7-e8bb9974bcba",
   "metadata": {},
   "outputs": [],
   "source": [
    "from sklearn.ensemble import RandomForestClassifier\n",
    "from sklearn.metrics import accuracy_score, precision_score, recall_score, f1_score, confusion_matrix\n",
    "\n",
    "rf_model = RandomForestClassifier(n_estimators=10, random_state=42)\n",
    "rf_model.fit(X_train_bal, y_train_bal)\n"
   ]
  },
  {
   "cell_type": "code",
   "execution_count": null,
   "id": "afb4e6fb-99e2-4e10-8759-358087e46292",
   "metadata": {},
   "outputs": [],
   "source": [
    "# making predictions\n",
    "\n",
    "y_pred_rf = rf_model.predict(X_test_scaled)\n"
   ]
  },
  {
   "cell_type": "code",
   "execution_count": null,
   "id": "a2018ab6-96d2-4f54-9817-e9dc5bcacbcc",
   "metadata": {},
   "outputs": [],
   "source": [
    "# Evaluating Model Performance\n",
    "\n",
    "print(\"Random Forest Performance:\")\n",
    "print(\"Accuracy:\", accuracy_score(y_test, y_pred_rf))\n",
    "print(\"Precision:\", precision_score(y_test, y_pred_rf))\n",
    "print(\"Recall:\", recall_score(y_test, y_pred_rf))\n",
    "print(\"F1 Score:\", f1_score(y_test, y_pred_rf))\n",
    "print(\"Confusion Matrix:\", confusion_matrix(y_test, y_pred_rf))"
   ]
  },
  {
   "cell_type": "code",
   "execution_count": null,
   "id": "b90f3248-0851-4c14-b889-db7a610b613e",
   "metadata": {},
   "outputs": [],
   "source": [
    "!pip install xgboost lightgbm"
   ]
  },
  {
   "cell_type": "markdown",
   "id": "ab4e8da0-b16a-4c1d-9982-253aab85a8ee",
   "metadata": {},
   "source": [
    "## XGBoost Model"
   ]
  },
  {
   "cell_type": "code",
   "execution_count": null,
   "id": "3f74b1eb-d80e-46c9-8413-dadb820d6310",
   "metadata": {},
   "outputs": [],
   "source": [
    "import xgboost as xgb\n",
    "\n",
    "xgb_model = xgb.XGBClassifier(n_estimators=50, random_state=42, use_label_encoder=False, eval_metric='logloss')\n",
    "xgb_model.fit(X_train_bal, y_train_bal)\n",
    "\n",
    "y_pred_xgb = xgb_model.predict(X_test_scaled)\n",
    "\n",
    "print(\"XGBoost Performance:\")\n",
    "print(\"Accuracy:\", accuracy_score(y_test, y_pred_xgb))\n",
    "print(\"Precision:\", precision_score(y_test, y_pred_xgb))\n",
    "print(\"Recall:\", recall_score(y_test, y_pred_xgb))\n",
    "print(\"F1 Score:\", f1_score(y_test, y_pred_xgb))\n",
    "print(\"Confusion Matrix:\", confusion_matrix(y_test, y_pred_xgb))\n",
    "\n"
   ]
  },
  {
   "cell_type": "markdown",
   "id": "50f526e8-747b-4995-8669-bc7903d89d7b",
   "metadata": {},
   "source": [
    "## LightGBM Model"
   ]
  },
  {
   "cell_type": "code",
   "execution_count": null,
   "id": "5d6b5d9c-785d-4871-ab3b-9242fa68c226",
   "metadata": {},
   "outputs": [],
   "source": [
    "import lightgbm as lgb\n",
    "\n",
    "lgb_model = lgb.LGBMClassifier(n_estimators=50, random_state=42)\n",
    "lgb_model.fit(X_train_bal, y_train_bal)\n",
    "\n",
    "y_pred_lgb = lgb_model.predict(X_test_scaled)\n",
    "\n",
    "print(\"LightGBM Performance:\")\n",
    "print(\"Accuracy:\", accuracy_score(y_test, y_pred_lgb))\n",
    "print(\"Precision:\", precision_score(y_test, y_pred_lgb))\n",
    "print(\"Recall:\", recall_score(y_test, y_pred_lgb))\n",
    "print(\"F1 Score:\", f1_score(y_test, y_pred_lgb))\n",
    "print(\"Confusion Matrix:\", confusion_matrix(y_test, y_pred_xgb))\n"
   ]
  },
  {
   "cell_type": "markdown",
   "id": "4bcb39d4-6fbe-46db-9e3c-9e5347cd1ff2",
   "metadata": {},
   "source": [
    "## Model Performance Comparison\n",
    "\n",
    "We compare all models using accuracy, precision, recall, and F1-score to select the best one.\n"
   ]
  },
  {
   "cell_type": "code",
   "execution_count": null,
   "id": "91c2cf64-23b9-4488-b256-c59ea19aa1c9",
   "metadata": {},
   "outputs": [],
   "source": [
    "model_results = pd.DataFrame({\n",
    "    'Model': ['Logistic Regression', 'Random Forest', 'XGBoost', 'LightGBM'],\n",
    "    'Accuracy': [\n",
    "        accuracy_score(y_test, y_pred_lr),\n",
    "        accuracy_score(y_test, y_pred_rf),\n",
    "        accuracy_score(y_test, y_pred_xgb),\n",
    "        accuracy_score(y_test, y_pred_lgb)\n",
    "    ],\n",
    "    'Precision': [\n",
    "        precision_score(y_test, y_pred_lr),\n",
    "        precision_score(y_test, y_pred_rf),\n",
    "        precision_score(y_test, y_pred_xgb),\n",
    "        precision_score(y_test, y_pred_lgb)\n",
    "    ],\n",
    "    'Recall': [\n",
    "        recall_score(y_test, y_pred_lr),\n",
    "        recall_score(y_test, y_pred_rf),\n",
    "        recall_score(y_test, y_pred_xgb),\n",
    "        recall_score(y_test, y_pred_lgb)\n",
    "    ],\n",
    "    'F1 Score': [\n",
    "        f1_score(y_test, y_pred_lr),\n",
    "        f1_score(y_test, y_pred_rf),\n",
    "        f1_score(y_test, y_pred_xgb),\n",
    "        f1_score(y_test, y_pred_lgb)\n",
    "    ]\n",
    "})\n",
    "\n",
    "model_results.sort_values(by='F1 Score', ascending=False, inplace=True)\n",
    "model_results.reset_index(drop=True, inplace=True)\n",
    "model_results\n"
   ]
  },
  {
   "cell_type": "markdown",
   "id": "a567e240-8bc0-4892-8b62-a8f7ab2ec53c",
   "metadata": {},
   "source": [
    "## Selecting the best model"
   ]
  },
  {
   "cell_type": "code",
   "execution_count": null,
   "id": "cad7c499-2e22-45b0-bcb4-13c18a199b9f",
   "metadata": {},
   "outputs": [],
   "source": [
    "# based on F1 score and recall\n",
    "best_model = log_reg"
   ]
  },
  {
   "cell_type": "markdown",
   "id": "d8551a14-a313-471b-9961-79bcf06e1dcd",
   "metadata": {},
   "source": [
    "## Final model evaluation"
   ]
  },
  {
   "cell_type": "code",
   "execution_count": null,
   "id": "01429970-d353-44ae-b272-2526dfd15ad0",
   "metadata": {},
   "outputs": [],
   "source": [
    "#  using roc(receiver operating characteristic) curve and auc(area under curve) score\n",
    "\n",
    "from sklearn.metrics import roc_curve, roc_auc_score"
   ]
  },
  {
   "cell_type": "code",
   "execution_count": null,
   "id": "6825306a-4b1c-491d-9283-ad262d2d9c01",
   "metadata": {},
   "outputs": [],
   "source": [
    "# predicting probabilites \n",
    "\n",
    "y_probs = best_model.predict_proba(X_test_scaled)[:, 1]  # probability for class 1\n"
   ]
  },
  {
   "cell_type": "markdown",
   "id": "33158c78-fc61-49ce-a6f4-de6ee30cbef4",
   "metadata": {},
   "source": [
    "## ROC Curve and AUC Score\n",
    "\n",
    "The best-performing model is evaluated using ROC curve and AUC to measure classification performance.\n"
   ]
  },
  {
   "cell_type": "code",
   "execution_count": null,
   "id": "694734bb-e421-4777-90a7-52d5ea6640b1",
   "metadata": {},
   "outputs": [],
   "source": [
    "# computing roc curve and auc score\n",
    "\n",
    "fpr, tpr, thresholds = roc_curve(y_test, y_probs)\n",
    "auc_score = roc_auc_score(y_test, y_probs)\n",
    "\n",
    "print(\"AUC Score:\", auc_score)\n"
   ]
  },
  {
   "cell_type": "code",
   "execution_count": null,
   "id": "4c8a3799-f0f8-489b-8cb2-ec8087bd9409",
   "metadata": {},
   "outputs": [],
   "source": [
    "# plotting roc curve\n",
    "\n",
    "plt.figure(figsize=(6, 4))\n",
    "plt.plot(fpr, tpr, label=f\"AUC = {auc_score:.3f}\")\n",
    "plt.plot([0, 1], [0, 1], linestyle='--', color='gray')  # diagonal\n",
    "plt.title(\"ROC Curve - Logistic Regression\")\n",
    "plt.xlabel(\"False Positive Rate\")\n",
    "plt.ylabel(\"True Positive Rate\")\n",
    "plt.legend()\n",
    "plt.grid(True)\n",
    "plt.show()\n"
   ]
  },
  {
   "cell_type": "markdown",
   "id": "6a3f3032-9994-4303-924e-d119aadcc822",
   "metadata": {},
   "source": [
    "## Challenges Report"
   ]
  },
  {
   "cell_type": "markdown",
   "id": "32ba785d-1555-4fac-97d8-481be2d18480",
   "metadata": {},
   "source": [
    "### Challenges Faced During the Project\n",
    "\n",
    "- The dataset had anonymized features, so meaningful EDA was limited.\n",
    "- The target classes were imbalanced (fewer 1s than 0s).\n",
    "- Model training was slow (especially for Random Forest and XGBoost).\n",
    "- Choosing the best model was tricky due to metric trade-offs (accuracy vs recalll vs F1).                           "
   ]
  },
  {
   "cell_type": "markdown",
   "id": "6b651373-d048-4a6f-b93e-62015ea6627f",
   "metadata": {},
   "source": [
    "### Techniques Used to Solve Challenges\n",
    "\n",
    "- Skipped full EDA, followed guidelines.\n",
    "- Used SMOTE to balance class distribution.\n",
    "- Reduced n_estimators in models to speed up training.\n",
    "- Used F1-score and recall instead of just accuracy to choose the best model.\n"
   ]
  },
  {
   "cell_type": "markdown",
   "id": "79651e1b-ebe3-4414-bc4b-43b97875ecd2",
   "metadata": {},
   "source": [
    "## Final Summary and Conclusion"
   ]
  },
  {
   "cell_type": "markdown",
   "id": "79f0a827-a7c5-4a4b-a87c-1e4adb34cf46",
   "metadata": {},
   "source": [
    "### summary and conclusion\n",
    "\n",
    "This project aimed to build a model that predicts whether a customer will make a transaction in the future. The dataset contained 200 anonymized features and a binary target column. Due to the lack of feature names, we followed the project guideline to keep EDA minimal and focused on modeling.\n",
    "\n",
    "We trained and evaluated four models: Logistic Regression, Random Forest, XGBoost, and LightGBM. After comparing their performance, we selected  Logistic Regression as the final model based on its high recall and F1-score, which are important for identifying potential customers who will make a transaction.\n",
    "                                                                                                                                                                                                                                                  \n",
    "The final model was evaluated using the ROC curve and AUC score, confirming its good classification ability. Overall, the project successfully met its objectives, and the selected model can help in identifying target customers for future campaigns.\n",
    "\n",
    "\n",
    "### Possible Future Improvements:\n",
    "- Using domain-specific data with named features for deeper analysis.\n",
    "- Trying advanced techniques like feature selection or ensemble stacking.\n",
    "- Deploying the model into a live environment for real-time predictions.\n",
    "                                             "
   ]
  },
  {
   "cell_type": "code",
   "execution_count": null,
   "id": "2480f58f-764a-4afb-8241-10bfb7991420",
   "metadata": {},
   "outputs": [],
   "source": []
  }
 ],
 "metadata": {
  "kernelspec": {
   "display_name": "Python 3 (ipykernel)",
   "language": "python",
   "name": "python3"
  },
  "language_info": {
   "codemirror_mode": {
    "name": "ipython",
    "version": 3
   },
   "file_extension": ".py",
   "mimetype": "text/x-python",
   "name": "python",
   "nbconvert_exporter": "python",
   "pygments_lexer": "ipython3",
   "version": "3.12.4"
  }
 },
 "nbformat": 4,
 "nbformat_minor": 5
}
